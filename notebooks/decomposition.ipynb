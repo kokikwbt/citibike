{
 "cells": [
  {
   "cell_type": "code",
   "execution_count": 51,
   "metadata": {},
   "outputs": [],
   "source": [
    "import warnings\n",
    "warnings.filterwarnings('ignore')\n",
    "import os\n",
    "import zipfile\n",
    "import pandas as pd\n",
    "import numpy as np\n",
    "import matplotlib.pyplot as plt\n",
    "import tqdm\n",
    "from sklearn.decomposition import NMF\n",
    "from tensorly.decomposition import non_negative_parafac"
   ]
  },
  {
   "cell_type": "code",
   "execution_count": 3,
   "metadata": {},
   "outputs": [],
   "source": [
    "def cleaning(df, user_type=None, add_user_age=True):\n",
    "\n",
    "    df.columns = df.columns.str.lower()\n",
    "    df.columns = df.columns.str.replace(' ', '')\n",
    "\n",
    "    df = df.dropna(subset=['birthyear'])\n",
    "\n",
    "    if user_type is not None:\n",
    "        assert user_type in ['Subscriber', 'Customer']\n",
    "        df = df.query('usertype==@user_type')\n",
    "\n",
    "    df = df.query('startstationlongitude!=0')\n",
    "    df = df.query('startstationlatitude!=0')\n",
    "    df = df.query('endstationlongitude!=0')\n",
    "    df = df.query('endstationlatitude!=0')\n",
    "\n",
    "    df.loc[:, 'starttime'] = pd.to_datetime(df.starttime)\n",
    "    df.loc[:, 'stoptime'] = pd.to_datetime(df.stoptime)\n",
    "    df.loc[:, 'year'] = df.starttime.dt.year\n",
    "    df.loc[:, 'hour'] = df.starttime.dt.hour\n",
    "    df.loc[:, 'weekday'] = df.starttime.dt.weekday.astype(str).str.cat(\n",
    "        df.starttime.dt.day_name().str[:3], sep='-')\n",
    "    df.loc[:, 'weekday-hour'] = df.hour.astype(str).str.cat(\n",
    "        df.starttime.dt.day_name().str[:3], sep='-')\n",
    "\n",
    "    if add_user_age:\n",
    "        df.loc[:, 'user_age'] = df.year - df.birthyear\n",
    "        df = df.query('user_age>=0')\n",
    "        df = df.query('user_age<=80')\n",
    "\n",
    "    return df\n"
   ]
  },
  {
   "cell_type": "code",
   "execution_count": 4,
   "metadata": {},
   "outputs": [],
   "source": [
    "def load_data(date=None, date_from=None, date_to=None, clean=True):\n",
    "    \"\"\"\n",
    "        date: (str) e.g., '201701'\n",
    "    \"\"\"\n",
    "\n",
    "    if date is not None:\n",
    "        zip_file = zipfile.ZipFile(\n",
    "            f'../rawdata/{date}-citibike-tripdata.csv.zip')\n",
    "        data = pd.read_csv(zip_file.open(zip_file.namelist()[0]))\n",
    "        # data = pd.read_csv(f'../rawdata/{date}-citibike-tripdata.csv.zip', compression='zip')\n",
    "        if clean:\n",
    "            return cleaning(data)\n",
    "        else:\n",
    "            return data\n",
    "\n",
    "    else:\n",
    "        if date_from is not None and date_to is not None:\n",
    "            return pd.concat([load_data(date=date.strftime(\"%Y%m\"))\n",
    "                              for date in pd.date_range(start=date_from, end=date_to, freq='M')])\n",
    "        else:\n",
    "            return None\n"
   ]
  },
  {
   "cell_type": "code",
   "execution_count": 5,
   "metadata": {},
   "outputs": [],
   "source": [
    "df = load_data('201701')"
   ]
  },
  {
   "cell_type": "code",
   "execution_count": 6,
   "metadata": {},
   "outputs": [],
   "source": [
    "def df2tts(df, time_key, facets, values=None, sampling_rate=\"D\"):\n",
    "    \"\"\" Convert a DataFrame (list) to tensor time series\n",
    "        df (pandas.DataFrame):\n",
    "            A list of discrete events\n",
    "        time_key (str):\n",
    "            A column name of timestamps\n",
    "        facets (list):\n",
    "            A list of column names to make tensor timeseries\n",
    "        values (str):\n",
    "            A column name of target values (optional)\n",
    "        sampling_rate (str):\n",
    "            A frequancy for resampling, e.g., \"7D\", \"12H\", \"H\"\n",
    "    \"\"\"\n",
    "    # tmp = df.copy(deep=True)\n",
    "    tmp = df\n",
    "    shape = tmp[facets].nunique().tolist()\n",
    "    if values == None:\n",
    "        values = 'count'\n",
    "        tmp[values] = 1\n",
    "\n",
    "    tmp[time_key] = tmp[time_key].round(sampling_rate)\n",
    "    print(\"Tensor order:\")\n",
    "    print(tmp.nunique()[[time_key] + facets])\n",
    "\n",
    "    print('computing...')\n",
    "    grouped = tmp.groupby([time_key] + facets).sum()[[values]]\n",
    "    print(grouped.shape)\n",
    "\n",
    "    print('unstacking...')\n",
    "    # grouped = grouped.unstack().stack()\n",
    "    grouped = grouped.unstack(fill_value=0).stack()\n",
    "    print(grouped.shape)\n",
    "\n",
    "    print('pivotting...')\n",
    "    grouped = grouped.pivot_table(index=time_key, columns=facets, values=values, fill_value=0)\n",
    "\n",
    "    tts = grouped.values\n",
    "    tts = np.reshape(tts, (-1, *shape))\n",
    "    return tts\n"
   ]
  },
  {
   "cell_type": "code",
   "execution_count": 64,
   "metadata": {},
   "outputs": [],
   "source": [
    "def get_unique_attributes(df, key, rate=0.9):\n",
    "    frequently_used_stations = df.groupby(key).size().rename('size').sort_values()\n",
    "    threshold = int(rate * frequently_used_stations.shape[0])\n",
    "    frequently_used_stations = frequently_used_stations.iloc[-threshold:]\n",
    "    frequently_used_stations = frequently_used_stations.sort_index()\n",
    "    return frequently_used_stations\n"
   ]
  },
  {
   "cell_type": "code",
   "execution_count": 65,
   "metadata": {},
   "outputs": [
    {
     "data": {
      "text/plain": [
       "startstationid\n",
       "72      1470\n",
       "79      1020\n",
       "82       514\n",
       "83       588\n",
       "116     1883\n",
       "        ... \n",
       "3435    2660\n",
       "3436    1631\n",
       "3438     660\n",
       "3440     666\n",
       "3443    1212\n",
       "Name: size, Length: 546, dtype: int64"
      ]
     },
     "execution_count": 65,
     "metadata": {},
     "output_type": "execute_result"
    }
   ],
   "source": [
    "aspect1 = get_unique_attributes(df, 'startstationid')\n",
    "aspect1"
   ]
  },
  {
   "cell_type": "code",
   "execution_count": 66,
   "metadata": {},
   "outputs": [
    {
     "data": {
      "text/plain": [
       "endstationid\n",
       "72      1430\n",
       "79      1075\n",
       "82       505\n",
       "83       579\n",
       "116     1910\n",
       "        ... \n",
       "3435    2621\n",
       "3436    1630\n",
       "3438     671\n",
       "3440     671\n",
       "3443    1217\n",
       "Name: size, Length: 549, dtype: int64"
      ]
     },
     "execution_count": 66,
     "metadata": {},
     "output_type": "execute_result"
    }
   ],
   "source": [
    "aspect2 = get_unique_attributes(df, 'endstationid')\n",
    "aspect2"
   ]
  },
  {
   "cell_type": "code",
   "execution_count": 89,
   "metadata": {},
   "outputs": [
    {
     "data": {
      "text/html": [
       "<div>\n",
       "<style scoped>\n",
       "    .dataframe tbody tr th:only-of-type {\n",
       "        vertical-align: middle;\n",
       "    }\n",
       "\n",
       "    .dataframe tbody tr th {\n",
       "        vertical-align: top;\n",
       "    }\n",
       "\n",
       "    .dataframe thead th {\n",
       "        text-align: right;\n",
       "    }\n",
       "</style>\n",
       "<table border=\"1\" class=\"dataframe\">\n",
       "  <thead>\n",
       "    <tr style=\"text-align: right;\">\n",
       "      <th></th>\n",
       "      <th></th>\n",
       "      <th>size</th>\n",
       "    </tr>\n",
       "    <tr>\n",
       "      <th>startstationid</th>\n",
       "      <th>user_age</th>\n",
       "      <th></th>\n",
       "    </tr>\n",
       "  </thead>\n",
       "  <tbody>\n",
       "    <tr>\n",
       "      <th rowspan=\"5\" valign=\"top\">72</th>\n",
       "      <th>17.0</th>\n",
       "      <td>0</td>\n",
       "    </tr>\n",
       "    <tr>\n",
       "      <th>18.0</th>\n",
       "      <td>0</td>\n",
       "    </tr>\n",
       "    <tr>\n",
       "      <th>19.0</th>\n",
       "      <td>0</td>\n",
       "    </tr>\n",
       "    <tr>\n",
       "      <th>20.0</th>\n",
       "      <td>4</td>\n",
       "    </tr>\n",
       "    <tr>\n",
       "      <th>21.0</th>\n",
       "      <td>38</td>\n",
       "    </tr>\n",
       "    <tr>\n",
       "      <th>...</th>\n",
       "      <th>...</th>\n",
       "      <td>...</td>\n",
       "    </tr>\n",
       "    <tr>\n",
       "      <th rowspan=\"5\" valign=\"top\">3443</th>\n",
       "      <th>76.0</th>\n",
       "      <td>1</td>\n",
       "    </tr>\n",
       "    <tr>\n",
       "      <th>77.0</th>\n",
       "      <td>0</td>\n",
       "    </tr>\n",
       "    <tr>\n",
       "      <th>78.0</th>\n",
       "      <td>0</td>\n",
       "    </tr>\n",
       "    <tr>\n",
       "      <th>79.0</th>\n",
       "      <td>0</td>\n",
       "    </tr>\n",
       "    <tr>\n",
       "      <th>80.0</th>\n",
       "      <td>0</td>\n",
       "    </tr>\n",
       "  </tbody>\n",
       "</table>\n",
       "<p>38848 rows × 1 columns</p>\n",
       "</div>"
      ],
      "text/plain": [
       "                         size\n",
       "startstationid user_age      \n",
       "72             17.0         0\n",
       "               18.0         0\n",
       "               19.0         0\n",
       "               20.0         4\n",
       "               21.0        38\n",
       "...                       ...\n",
       "3443           76.0         1\n",
       "               77.0         0\n",
       "               78.0         0\n",
       "               79.0         0\n",
       "               80.0         0\n",
       "\n",
       "[38848 rows x 1 columns]"
      ]
     },
     "execution_count": 89,
     "metadata": {},
     "output_type": "execute_result"
    }
   ],
   "source": [
    "# facets = ['startstationid', 'endstationid']\n",
    "facets = ['startstationid', 'user_age']\n",
    "# facets = ['startstationid', 'endstationid', 'user_age']\n",
    "multi_index = df.groupby(facets).size().rename('size').to_frame()\n",
    "multi_index = multi_index.unstack(fill_value=0).stack()\n",
    "multi_index"
   ]
  },
  {
   "cell_type": "code",
   "execution_count": 90,
   "metadata": {},
   "outputs": [
    {
     "data": {
      "text/plain": [
       "Index    138584\n",
       "size     310784\n",
       "dtype: int64"
      ]
     },
     "execution_count": 90,
     "metadata": {},
     "output_type": "execute_result"
    }
   ],
   "source": [
    "multi_index.memory_usage(index=True)"
   ]
  },
  {
   "cell_type": "code",
   "execution_count": 91,
   "metadata": {},
   "outputs": [
    {
     "name": "stderr",
     "output_type": "stream",
     "text": [
      "100%|██████████| 744/744 [00:03<00:00, 190.29it/s]\n"
     ]
    }
   ],
   "source": [
    "for t, g in tqdm.tqdm(df.set_index('starttime').groupby(pd.Grouper(freq='H'))):\n",
    "\n",
    "    time_sliced_matrix = multi_index.join(g.groupby(facets).size().rename('data'))\n",
    "    time_sliced_matrix = time_sliced_matrix.fillna(0.)\n",
    "    # break"
   ]
  },
  {
   "cell_type": "code",
   "execution_count": 92,
   "metadata": {},
   "outputs": [
    {
     "ename": "ValueError",
     "evalue": "cannot reshape array of size 38848 into shape (607,610)",
     "output_type": "error",
     "traceback": [
      "\u001b[0;31m---------------------------------------------------------------------------\u001b[0m",
      "\u001b[0;31mValueError\u001b[0m                                Traceback (most recent call last)",
      "\u001b[0;32m<ipython-input-92-0ba546a7d36a>\u001b[0m in \u001b[0;36m<module>\u001b[0;34m\u001b[0m\n\u001b[0;32m----> 1\u001b[0;31m \u001b[0mtime_sliced_matrix\u001b[0m\u001b[0;34m.\u001b[0m\u001b[0mdata\u001b[0m\u001b[0;34m.\u001b[0m\u001b[0mvalues\u001b[0m\u001b[0;34m.\u001b[0m\u001b[0mreshape\u001b[0m\u001b[0;34m(\u001b[0m\u001b[0;34m(\u001b[0m\u001b[0;36m607\u001b[0m\u001b[0;34m,\u001b[0m \u001b[0;36m610\u001b[0m\u001b[0;34m)\u001b[0m\u001b[0;34m)\u001b[0m\u001b[0;34m\u001b[0m\u001b[0;34m\u001b[0m\u001b[0m\n\u001b[0m",
      "\u001b[0;31mValueError\u001b[0m: cannot reshape array of size 38848 into shape (607,610)"
     ]
    }
   ],
   "source": [
    "time_sliced_matrix.data.values.reshape((607, 610))"
   ]
  },
  {
   "cell_type": "code",
   "execution_count": 131,
   "metadata": {},
   "outputs": [],
   "source": [
    "def define_non_temporal_modes(df, facets, freq_rate=0.9, skip_mode=None):\n",
    "    \n",
    "    if skip_mode is None:\n",
    "        skip_mode = [False] * len(facets)\n",
    "\n",
    "    # Extracting the top [freq_rate] % attritbutes for each mode\n",
    "    freq_rates = df[facets].nunique().values * freq_rate\n",
    "    freq_shape = freq_rates.astype(int)\n",
    "    freq_entities = [df.groupby(a).size().sort_values().iloc[-r:].index if not s else [] for a, r, s in zip(facets, freq_shape, skip_mode)]\n",
    "\n",
    "    # Filtering out the infrequent attributes\n",
    "    valid_events = df\n",
    "    for i, (mode, skip) in enumerate(zip(facets, skip_mode)):\n",
    "        if not skip:\n",
    "            valid_events = valid_events[valid_events[mode].isin(freq_entities[i])]\n",
    "\n",
    "    print('Filtered out {} samples'.format(df.shape[0] - valid_events.shape[0]))\n",
    "\n",
    "    # Getting the attributes to keep track\n",
    "    multi_index = valid_events.groupby(facets).size().rename('size').to_frame()\n",
    "    multi_index = multi_index.unstack(fill_value=0).stack()\n",
    "\n",
    "    shape = valid_events[facets].nunique().values.astype(int)\n",
    "\n",
    "    return multi_index, shape"
   ]
  },
  {
   "cell_type": "code",
   "execution_count": 132,
   "metadata": {},
   "outputs": [
    {
     "name": "stdout",
     "output_type": "stream",
     "text": [
      "Filtered out 6830 samples\n"
     ]
    },
    {
     "data": {
      "text/plain": [
       "((34944, 1), 34944)"
      ]
     },
     "execution_count": 132,
     "metadata": {},
     "output_type": "execute_result"
    }
   ],
   "source": [
    "multi_index, shape = define_non_temporal_modes(df, facets, skip_mode=[False, True])\n",
    "multi_index.shape, np.prod(shape)"
   ]
  },
  {
   "cell_type": "code",
   "execution_count": 133,
   "metadata": {},
   "outputs": [
    {
     "data": {
      "text/html": [
       "<div>\n",
       "<style scoped>\n",
       "    .dataframe tbody tr th:only-of-type {\n",
       "        vertical-align: middle;\n",
       "    }\n",
       "\n",
       "    .dataframe tbody tr th {\n",
       "        vertical-align: top;\n",
       "    }\n",
       "\n",
       "    .dataframe thead th {\n",
       "        text-align: right;\n",
       "    }\n",
       "</style>\n",
       "<table border=\"1\" class=\"dataframe\">\n",
       "  <thead>\n",
       "    <tr style=\"text-align: right;\">\n",
       "      <th></th>\n",
       "      <th></th>\n",
       "      <th>size</th>\n",
       "    </tr>\n",
       "    <tr>\n",
       "      <th>startstationid</th>\n",
       "      <th>user_age</th>\n",
       "      <th></th>\n",
       "    </tr>\n",
       "  </thead>\n",
       "  <tbody>\n",
       "    <tr>\n",
       "      <th rowspan=\"5\" valign=\"top\">72</th>\n",
       "      <th>17.0</th>\n",
       "      <td>0</td>\n",
       "    </tr>\n",
       "    <tr>\n",
       "      <th>18.0</th>\n",
       "      <td>0</td>\n",
       "    </tr>\n",
       "    <tr>\n",
       "      <th>19.0</th>\n",
       "      <td>0</td>\n",
       "    </tr>\n",
       "    <tr>\n",
       "      <th>20.0</th>\n",
       "      <td>4</td>\n",
       "    </tr>\n",
       "    <tr>\n",
       "      <th>21.0</th>\n",
       "      <td>38</td>\n",
       "    </tr>\n",
       "    <tr>\n",
       "      <th>...</th>\n",
       "      <th>...</th>\n",
       "      <td>...</td>\n",
       "    </tr>\n",
       "    <tr>\n",
       "      <th rowspan=\"5\" valign=\"top\">3443</th>\n",
       "      <th>76.0</th>\n",
       "      <td>1</td>\n",
       "    </tr>\n",
       "    <tr>\n",
       "      <th>77.0</th>\n",
       "      <td>0</td>\n",
       "    </tr>\n",
       "    <tr>\n",
       "      <th>78.0</th>\n",
       "      <td>0</td>\n",
       "    </tr>\n",
       "    <tr>\n",
       "      <th>79.0</th>\n",
       "      <td>0</td>\n",
       "    </tr>\n",
       "    <tr>\n",
       "      <th>80.0</th>\n",
       "      <td>0</td>\n",
       "    </tr>\n",
       "  </tbody>\n",
       "</table>\n",
       "<p>34944 rows × 1 columns</p>\n",
       "</div>"
      ],
      "text/plain": [
       "                         size\n",
       "startstationid user_age      \n",
       "72             17.0         0\n",
       "               18.0         0\n",
       "               19.0         0\n",
       "               20.0         4\n",
       "               21.0        38\n",
       "...                       ...\n",
       "3443           76.0         1\n",
       "               77.0         0\n",
       "               78.0         0\n",
       "               79.0         0\n",
       "               80.0         0\n",
       "\n",
       "[34944 rows x 1 columns]"
      ]
     },
     "execution_count": 133,
     "metadata": {},
     "output_type": "execute_result"
    }
   ],
   "source": [
    "multi_index"
   ]
  },
  {
   "cell_type": "code",
   "execution_count": 127,
   "metadata": {},
   "outputs": [
    {
     "name": "stdout",
     "output_type": "stream",
     "text": [
      "False Int64Index([3040, 3017, 3240, 3219, 3245, 3330, 3394, 3352, 2005, 3395,\n",
      "            ...\n",
      "             523,  459,  379,  285,  477,  490,  402,  497,  435,  519],\n",
      "           dtype='int64', name='startstationid', length=607)\n",
      "False Float64Index([80.0, 78.0, 79.0, 77.0, 74.0, 76.0, 73.0, 75.0, 72.0, 17.0, 71.0,\n",
      "              70.0, 69.0, 68.0, 18.0, 19.0, 67.0, 66.0, 20.0, 65.0, 21.0, 22.0,\n",
      "              63.0, 64.0, 62.0, 61.0, 60.0, 59.0, 23.0, 58.0, 56.0, 57.0, 54.0,\n",
      "              55.0, 51.0, 52.0, 50.0, 53.0, 49.0, 44.0, 24.0, 45.0, 42.0, 48.0,\n",
      "              46.0, 43.0, 40.0, 41.0, 39.0, 47.0, 25.0, 38.0, 37.0, 36.0, 26.0,\n",
      "              35.0, 34.0, 27.0, 30.0, 33.0, 28.0, 31.0, 29.0, 32.0],\n",
      "             dtype='float64', name='user_age')\n",
      "Filtered out 0 samples\n"
     ]
    }
   ],
   "source": [
    "\n",
    "facets = ['startstationid', 'user_age']\n",
    "skip_mode = [False, False]\n",
    "multi_index, shape = define_non_temporal_modes(df, facets, skip_mode)\n",
    "\n",
    "sub_tensor = np.zeros((168, *shape))\n",
    "\n",
    "cnt = 0\n",
    "\n",
    "for t, (_, g) in enumerate(df.set_index('starttime').groupby(pd.Grouper(freq='H'))):\n",
    "    # print(t)\n",
    "    events = multi_index.join(g.groupby(facets).size().rename('data'), how='left')\n",
    "    tensor = events.data.fillna(0.).values.reshape((-1, *shape))\n",
    "    # print(tensor.shape)\n",
    "    sub_tensor[t] = tensor\n",
    "\n",
    "    # nmf = NMF(n_components=5)\n",
    "    # W = nmf.fit_transform(tensor[0])\n",
    "    # H = nmf.components_\n",
    "\n",
    "    cnt += 1\n",
    "    if cnt >= 168:\n",
    "        break\n",
    "\n",
    "    # break"
   ]
  },
  {
   "cell_type": "code",
   "execution_count": 128,
   "metadata": {},
   "outputs": [
    {
     "data": {
      "text/plain": [
       "(168, 607, 64)"
      ]
     },
     "execution_count": 128,
     "metadata": {},
     "output_type": "execute_result"
    }
   ],
   "source": [
    "sub_tensor.shape"
   ]
  },
  {
   "cell_type": "code",
   "execution_count": 129,
   "metadata": {},
   "outputs": [],
   "source": [
    "weight, factors = non_negative_parafac(sub_tensor, 10)"
   ]
  },
  {
   "cell_type": "code",
   "execution_count": 130,
   "metadata": {},
   "outputs": [
    {
     "data": {
      "text/plain": [
       "[<matplotlib.lines.Line2D at 0x7f7700e06b80>,\n",
       " <matplotlib.lines.Line2D at 0x7f7700e06c70>,\n",
       " <matplotlib.lines.Line2D at 0x7f7700e06d30>,\n",
       " <matplotlib.lines.Line2D at 0x7f7700e06df0>,\n",
       " <matplotlib.lines.Line2D at 0x7f7700e06eb0>,\n",
       " <matplotlib.lines.Line2D at 0x7f7700e06f70>,\n",
       " <matplotlib.lines.Line2D at 0x7f7700c3b070>,\n",
       " <matplotlib.lines.Line2D at 0x7f7700c3b130>,\n",
       " <matplotlib.lines.Line2D at 0x7f7700c3b1f0>,\n",
       " <matplotlib.lines.Line2D at 0x7f7700c3b2b0>]"
      ]
     },
     "execution_count": 130,
     "metadata": {},
     "output_type": "execute_result"
    },
    {
     "data": {
      "image/png": "[encoded data removed]",
      "text/plain": [
       "<Figure size 432x288 with 1 Axes>"
      ]
     },
     "metadata": {
      "needs_background": "light"
     },
     "output_type": "display_data"
    }
   ],
   "source": [
    "plt.plot(factors[0])"
   ]
  },
  {
   "cell_type": "code",
   "execution_count": 126,
   "metadata": {},
   "outputs": [
    {
     "data": {
      "text/plain": [
       "[<matplotlib.lines.Line2D at 0x7f77003ca1f0>,\n",
       " <matplotlib.lines.Line2D at 0x7f77003ca2e0>,\n",
       " <matplotlib.lines.Line2D at 0x7f77003ca3a0>,\n",
       " <matplotlib.lines.Line2D at 0x7f77003ca460>,\n",
       " <matplotlib.lines.Line2D at 0x7f77003ca520>,\n",
       " <matplotlib.lines.Line2D at 0x7f77003ca5e0>,\n",
       " <matplotlib.lines.Line2D at 0x7f77003ca6a0>,\n",
       " <matplotlib.lines.Line2D at 0x7f77003ca760>,\n",
       " <matplotlib.lines.Line2D at 0x7f77003ca820>,\n",
       " <matplotlib.lines.Line2D at 0x7f77003ca8e0>]"
      ]
     },
     "execution_count": 126,
     "metadata": {},
     "output_type": "execute_result"
    },
    {
     "data": {
      "image/png": "[encoded data removed]",
      "text/plain": [
       "<Figure size 432x288 with 1 Axes>"
      ]
     },
     "metadata": {
      "needs_background": "light"
     },
     "output_type": "display_data"
    }
   ],
   "source": [
    "plt.plot(factors[2])"
   ]
  }
 ],
 "metadata": {
  "interpreter": {
   "hash": "a09cabb6c14fa0d95d918e4f266e8510ff0b0eed29b86c4cacc87e374388c50e"
  },
  "kernelspec": {
   "display_name": "Python 3.8.12 ('cosmo')",
   "language": "python",
   "name": "python3"
  },
  "language_info": {
   "codemirror_mode": {
    "name": "ipython",
    "version": 3
   },
   "file_extension": ".py",
   "mimetype": "text/x-python",
   "name": "python",
   "nbconvert_exporter": "python",
   "pygments_lexer": "ipython3",
   "version": "3.8.12"
  },
  "orig_nbformat": 4
 },
 "nbformat": 4,
 "nbformat_minor": 2
}
