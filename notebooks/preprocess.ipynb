{
 "metadata": {
  "language_info": {
   "codemirror_mode": {
    "name": "ipython",
    "version": 3
   },
   "file_extension": ".py",
   "mimetype": "text/x-python",
   "name": "python",
   "nbconvert_exporter": "python",
   "pygments_lexer": "ipython3",
   "version": "3.8.2"
  },
  "orig_nbformat": 2,
  "kernelspec": {
   "name": "python3",
   "display_name": "Python 3.6.9 64-bit"
  }
 },
 "nbformat": 4,
 "nbformat_minor": 2,
 "cells": [
  {
   "source": [
    "# Preprocessing for NYC Citibike Trip Data"
   ],
   "cell_type": "markdown",
   "metadata": {}
  },
  {
   "cell_type": "code",
   "execution_count": 1,
   "metadata": {},
   "outputs": [],
   "source": [
    "import glob\n",
    "import multiprocessing\n",
    "import os\n",
    "import warnings\n",
    "import pandas as pd\n",
    "import pprint\n",
    "import tqdm\n",
    "import zipfile\n",
    "\n",
    "pp = pprint.PrettyPrinter(indent=4)\n",
    "ROOTPATH = \"../dat/raw/\""
   ]
  },
  {
   "cell_type": "code",
   "execution_count": 2,
   "metadata": {},
   "outputs": [],
   "source": [
    "def load_data(date_index):\n",
    "    return pd.read_csv(ROOTPATH + date_index + \"-citibike-tripdata.csv\")"
   ]
  },
  {
   "cell_type": "code",
   "execution_count": null,
   "metadata": {},
   "outputs": [],
   "source": [
    "eg = load_data(date_index=\"202009\")"
   ]
  },
  {
   "cell_type": "code",
   "execution_count": null,
   "metadata": {},
   "outputs": [],
   "source": [
    "eg.nunique()"
   ]
  },
  {
   "cell_type": "code",
   "execution_count": null,
   "metadata": {},
   "outputs": [],
   "source": [
    "eg.groupby(\"usertype\").size()"
   ]
  },
  {
   "cell_type": "code",
   "execution_count": null,
   "metadata": {},
   "outputs": [],
   "source": [
    "eg.groupby(\"gender\").size()"
   ]
  },
  {
   "cell_type": "code",
   "execution_count": null,
   "metadata": {},
   "outputs": [],
   "source": [
    "eg[\"birth year\"].hist()"
   ]
  },
  {
   "cell_type": "code",
   "execution_count": 3,
   "metadata": {},
   "outputs": [],
   "source": [
    "def cleaning(df, year, usertype='customer'):\n",
    "\n",
    "\n",
    "    cleaned = df.dropna(how=\"any\")\n",
    "    cleaned.columns = cleaned.columns.str.replace(\" \", \"\")\n",
    "    cleaned.columns = cleaned.columns.str.lower()\n",
    "\n",
    "    # print(cleaned[\"usertype\"].unique())\n",
    "    usertype = usertype.capitalize()\n",
    "    cleaned = cleaned.query(\"usertype==@usertype\")\n",
    "\n",
    "    # print(cleaned.keys())\n",
    "    # print(cleaned[\"birth_year\"])\n",
    "    cleaned[\"birthyear\"] = pd.to_numeric(cleaned[\"birthyear\"], errors=\"coerce\")\n",
    "    cleaned = cleaned.dropna(how=\"any\")\n",
    "\n",
    "    cleaned[\"userage\"] = int(year) - cleaned[\"birthyear\"].astype(int)\n",
    "    cleaned = cleaned.query(\"userage<=80\")\n",
    "    cleaned = cleaned.query(\"userage>10\")\n",
    "\n",
    "    # print(cleaned.head())\n",
    "    # print(cleaned.shape)\n",
    "    # print(cleaned.userage)\n",
    "    # print(cleaned.keys())\n",
    "\n",
    "    del cleaned[\"bikeid\"]\n",
    "    del cleaned[\"tripduration\"]\n",
    "    del cleaned[\"birthyear\"]\n",
    "    del cleaned[\"startstationname\"]\n",
    "    del cleaned[\"endstationname\"]\n",
    "    del cleaned[\"usertype\"]\n",
    "    del cleaned[\"gender\"]\n",
    "\n",
    "    cleaned = cleaned.astype({\n",
    "        \"startstationid\": int,\n",
    "        \"endstationid\": int,\n",
    "        \"userage\": int,\n",
    "    })\n",
    "\n",
    "    # print(cleaned.head())\n",
    "    # print(cleaned.shape)\n",
    "    return cleaned"
   ]
  },
  {
   "cell_type": "code",
   "execution_count": 5,
   "metadata": {},
   "outputs": [],
   "source": [
    "def _preprocessing(date_index, usertype=\"customer\"):\n",
    "    org = load_data(date_index)\n",
    "    year = date_index[:4]\n",
    "    cleaned = cleaning(org, year, usertype)\n",
    "    if len(cleaned) < 100:\n",
    "        return\n",
    "\n",
    "    cleaned.to_csv(\n",
    "        \"../dat/processed/{}/{}-citibike-tripdata.csv.gz\".format(\n",
    "            usertype, date_index),\n",
    "        index=False, compression=\"gzip\")"
   ]
  },
  {
   "cell_type": "code",
   "execution_count": 7,
   "metadata": {
    "tags": []
   },
   "outputs": [
    {
     "output_type": "stream",
     "name": "stderr",
     "text": [
      "100%|██████████| 94/94 [30:19<00:00, 15.42s/it]\n"
     ]
    }
   ],
   "source": [
    "warnings.filterwarnings(\"ignore\")\n",
    "os.makedirs(\"../dat/processed/customer/\", exist_ok=True)\n",
    "os.makedirs(\"../dat/processed/subscriber/\", exist_ok=True)\n",
    "\n",
    "date_indices = [\n",
    "    s.strftime(\"%Y%m\")\n",
    "    for s in pd.date_range(start=\"2013-06\", end=\"2021-04\", freq='m')]\n",
    "\n",
    "for idx in tqdm.tqdm(date_indices):\n",
    "    # _preprocessing(idx, usertype='customer')\n",
    "    _preprocessing(idx, usertype='subscriber')\n",
    "    # break"
   ]
  },
  {
   "cell_type": "code",
   "execution_count": null,
   "metadata": {},
   "outputs": [],
   "source": []
  }
 ]
}