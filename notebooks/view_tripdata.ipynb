{
 "metadata": {
  "language_info": {
   "codemirror_mode": {
    "name": "ipython",
    "version": 3
   },
   "file_extension": ".py",
   "mimetype": "text/x-python",
   "name": "python",
   "nbconvert_exporter": "python",
   "pygments_lexer": "ipython3",
   "version": "3.7.4-final"
  },
  "orig_nbformat": 2,
  "kernelspec": {
   "name": "python374jvsc74a57bd0497fcd8131e0146a97329183202dc5b52e74356af60b10336fb4fcc3db0452ec",
   "display_name": "Python 3.7.4 64-bit ('miniconda3': virtualenv)",
   "language": "python"
  }
 },
 "nbformat": 4,
 "nbformat_minor": 2,
 "cells": [
  {
   "source": [
    "# View preprocessed NYC tripdata"
   ],
   "cell_type": "markdown",
   "metadata": {}
  },
  {
   "cell_type": "code",
   "execution_count": 12,
   "metadata": {},
   "outputs": [],
   "source": [
    "import glob\n",
    "import os\n",
    "import shutil\n",
    "import matplotlib.pyplot as plt\n",
    "import numpy as np\n",
    "import pandas as pd\n",
    "import seaborn as sns\n",
    "import PyPDF2\n",
    "from tqdm import tqdm"
   ]
  },
  {
   "cell_type": "code",
   "execution_count": 13,
   "metadata": {},
   "outputs": [],
   "source": [
    "sns.set_style(\"whitegrid\")\n",
    "sns.set_palette(\"muted\")"
   ]
  },
  {
   "cell_type": "code",
   "execution_count": 14,
   "metadata": {},
   "outputs": [],
   "source": [
    "DATASET_PATH = \"../dat/citibike_201903_202104/\"\n",
    "OUTPUT_PATH = \"../out/view/\""
   ]
  },
  {
   "cell_type": "code",
   "execution_count": 15,
   "metadata": {},
   "outputs": [],
   "source": [
    "def replace_dir(path):\n",
    "    if os.path.exists(path):\n",
    "        shutil.rmtree(path)\n",
    "    os.makedirs(path)"
   ]
  },
  {
   "source": [
    "## View data samples"
   ],
   "cell_type": "markdown",
   "metadata": {}
  },
  {
   "cell_type": "code",
   "execution_count": 16,
   "metadata": {},
   "outputs": [
    {
     "output_type": "execute_result",
     "data": {
      "text/plain": [
       "['../dat/citibike_201903_202104/tripdata_201903.csv',\n",
       " '../dat/citibike_201903_202104/tripdata_201904.csv',\n",
       " '../dat/citibike_201903_202104/tripdata_201905.csv',\n",
       " '../dat/citibike_201903_202104/tripdata_201906.csv',\n",
       " '../dat/citibike_201903_202104/tripdata_201907.csv',\n",
       " '../dat/citibike_201903_202104/tripdata_201908.csv',\n",
       " '../dat/citibike_201903_202104/tripdata_201909.csv',\n",
       " '../dat/citibike_201903_202104/tripdata_201910.csv',\n",
       " '../dat/citibike_201903_202104/tripdata_201911.csv',\n",
       " '../dat/citibike_201903_202104/tripdata_201912.csv',\n",
       " '../dat/citibike_201903_202104/tripdata_202001.csv',\n",
       " '../dat/citibike_201903_202104/tripdata_202002.csv',\n",
       " '../dat/citibike_201903_202104/tripdata_202003.csv',\n",
       " '../dat/citibike_201903_202104/tripdata_202004.csv',\n",
       " '../dat/citibike_201903_202104/tripdata_202005.csv',\n",
       " '../dat/citibike_201903_202104/tripdata_202006.csv',\n",
       " '../dat/citibike_201903_202104/tripdata_202007.csv',\n",
       " '../dat/citibike_201903_202104/tripdata_202008.csv',\n",
       " '../dat/citibike_201903_202104/tripdata_202009.csv',\n",
       " '../dat/citibike_201903_202104/tripdata_202010.csv',\n",
       " '../dat/citibike_201903_202104/tripdata_202011.csv',\n",
       " '../dat/citibike_201903_202104/tripdata_202012.csv',\n",
       " '../dat/citibike_201903_202104/tripdata_202101.csv',\n",
       " '../dat/citibike_201903_202104/tripdata_202102.csv',\n",
       " '../dat/citibike_201903_202104/tripdata_202103.csv']"
      ]
     },
     "metadata": {},
     "execution_count": 16
    }
   ],
   "source": [
    "tripdata_list = glob.glob(DATASET_PATH + \"*tripdata*.csv\")\n",
    "tripdata_list.sort()\n",
    "tripdata_list"
   ]
  },
  {
   "cell_type": "code",
   "execution_count": 17,
   "metadata": {},
   "outputs": [
    {
     "output_type": "execute_result",
     "data": {
      "text/plain": [
       "      index  stationid                   stationname  stationlatitude  \\\n",
       "0         0       3496              1 Ave & E 110 St        40.792327   \n",
       "1         1        504               1 Ave & E 15 St        40.732219   \n",
       "2         2       2003               1 Ave & E 18 St        40.733812   \n",
       "3         3        536               1 Ave & E 30 St        40.741444   \n",
       "4         4       4121               1 Ave & E 39 St        40.747140   \n",
       "...     ...        ...                           ...              ...   \n",
       "1398   1398       3911        Wyckoff St & Nevins St        40.683426   \n",
       "1399   1399       2002  Wythe Ave & Metropolitan Ave        40.716887   \n",
       "1400   1400       3182         Yankee Ferry Terminal        40.686931   \n",
       "1401   1401       3481                       York St        40.716490   \n",
       "1402   1402        430              York St & Jay St        40.701485   \n",
       "\n",
       "      stationlongitude  \n",
       "0           -73.938300  \n",
       "1           -73.981656  \n",
       "2           -73.980544  \n",
       "3           -73.975361  \n",
       "4           -73.971130  \n",
       "...                ...  \n",
       "1398        -73.984275  \n",
       "1399        -73.963198  \n",
       "1400        -74.016966  \n",
       "1401        -74.041050  \n",
       "1402        -73.986569  \n",
       "\n",
       "[1403 rows x 5 columns]"
      ],
      "text/html": "<div>\n<style scoped>\n    .dataframe tbody tr th:only-of-type {\n        vertical-align: middle;\n    }\n\n    .dataframe tbody tr th {\n        vertical-align: top;\n    }\n\n    .dataframe thead th {\n        text-align: right;\n    }\n</style>\n<table border=\"1\" class=\"dataframe\">\n  <thead>\n    <tr style=\"text-align: right;\">\n      <th></th>\n      <th>index</th>\n      <th>stationid</th>\n      <th>stationname</th>\n      <th>stationlatitude</th>\n      <th>stationlongitude</th>\n    </tr>\n  </thead>\n  <tbody>\n    <tr>\n      <th>0</th>\n      <td>0</td>\n      <td>3496</td>\n      <td>1 Ave &amp; E 110 St</td>\n      <td>40.792327</td>\n      <td>-73.938300</td>\n    </tr>\n    <tr>\n      <th>1</th>\n      <td>1</td>\n      <td>504</td>\n      <td>1 Ave &amp; E 15 St</td>\n      <td>40.732219</td>\n      <td>-73.981656</td>\n    </tr>\n    <tr>\n      <th>2</th>\n      <td>2</td>\n      <td>2003</td>\n      <td>1 Ave &amp; E 18 St</td>\n      <td>40.733812</td>\n      <td>-73.980544</td>\n    </tr>\n    <tr>\n      <th>3</th>\n      <td>3</td>\n      <td>536</td>\n      <td>1 Ave &amp; E 30 St</td>\n      <td>40.741444</td>\n      <td>-73.975361</td>\n    </tr>\n    <tr>\n      <th>4</th>\n      <td>4</td>\n      <td>4121</td>\n      <td>1 Ave &amp; E 39 St</td>\n      <td>40.747140</td>\n      <td>-73.971130</td>\n    </tr>\n    <tr>\n      <th>...</th>\n      <td>...</td>\n      <td>...</td>\n      <td>...</td>\n      <td>...</td>\n      <td>...</td>\n    </tr>\n    <tr>\n      <th>1398</th>\n      <td>1398</td>\n      <td>3911</td>\n      <td>Wyckoff St &amp; Nevins St</td>\n      <td>40.683426</td>\n      <td>-73.984275</td>\n    </tr>\n    <tr>\n      <th>1399</th>\n      <td>1399</td>\n      <td>2002</td>\n      <td>Wythe Ave &amp; Metropolitan Ave</td>\n      <td>40.716887</td>\n      <td>-73.963198</td>\n    </tr>\n    <tr>\n      <th>1400</th>\n      <td>1400</td>\n      <td>3182</td>\n      <td>Yankee Ferry Terminal</td>\n      <td>40.686931</td>\n      <td>-74.016966</td>\n    </tr>\n    <tr>\n      <th>1401</th>\n      <td>1401</td>\n      <td>3481</td>\n      <td>York St</td>\n      <td>40.716490</td>\n      <td>-74.041050</td>\n    </tr>\n    <tr>\n      <th>1402</th>\n      <td>1402</td>\n      <td>430</td>\n      <td>York St &amp; Jay St</td>\n      <td>40.701485</td>\n      <td>-73.986569</td>\n    </tr>\n  </tbody>\n</table>\n<p>1403 rows × 5 columns</p>\n</div>"
     },
     "metadata": {},
     "execution_count": 17
    }
   ],
   "source": [
    "station_data = pd.read_csv(DATASET_PATH + \"station_data.csv\")\n",
    "station_data"
   ]
  },
  {
   "cell_type": "code",
   "execution_count": 18,
   "metadata": {},
   "outputs": [
    {
     "output_type": "execute_result",
     "data": {
      "text/plain": [
       "                         startstationid  endstationid  userage  \\\n",
       "starttime                                                        \n",
       "2021-02-01 00:04:23.078            3175          4045       17   \n",
       "2021-02-01 00:07:08.808            3154          3725       22   \n",
       "2021-02-01 00:07:55.939             502           411       33   \n",
       "2021-02-01 00:09:32.682             505          3687       25   \n",
       "2021-02-01 00:11:53.386             346           285       38   \n",
       "...                                 ...           ...      ...   \n",
       "2021-02-28 23:51:54.160             303           257       45   \n",
       "2021-02-28 23:53:45.016            3052           437       21   \n",
       "2021-02-28 23:56:09.694             485           526       13   \n",
       "2021-02-28 23:57:55.556            3555          3129       25   \n",
       "2021-02-28 23:59:17.886            3134          3141       27   \n",
       "\n",
       "                         start_station_dim  end_station_dim  \n",
       "starttime                                                    \n",
       "2021-02-01 00:04:23.078             1313.0           1362.0  \n",
       "2021-02-01 00:07:08.808              618.0             36.0  \n",
       "2021-02-01 00:07:55.939              775.0            600.0  \n",
       "2021-02-01 00:09:32.682              149.0            557.0  \n",
       "2021-02-01 00:11:53.386              221.0            262.0  \n",
       "...                                    ...              ...  \n",
       "2021-02-28 23:51:54.160              931.0            886.0  \n",
       "2021-02-28 23:53:45.016              868.0            897.0  \n",
       "2021-02-28 23:56:09.694             1274.0            559.0  \n",
       "2021-02-28 23:57:55.556               60.0           1063.0  \n",
       "2021-02-28 23:59:17.886               70.0              8.0  \n",
       "\n",
       "[160173 rows x 5 columns]"
      ],
      "text/html": "<div>\n<style scoped>\n    .dataframe tbody tr th:only-of-type {\n        vertical-align: middle;\n    }\n\n    .dataframe tbody tr th {\n        vertical-align: top;\n    }\n\n    .dataframe thead th {\n        text-align: right;\n    }\n</style>\n<table border=\"1\" class=\"dataframe\">\n  <thead>\n    <tr style=\"text-align: right;\">\n      <th></th>\n      <th>startstationid</th>\n      <th>endstationid</th>\n      <th>userage</th>\n      <th>start_station_dim</th>\n      <th>end_station_dim</th>\n    </tr>\n    <tr>\n      <th>starttime</th>\n      <th></th>\n      <th></th>\n      <th></th>\n      <th></th>\n      <th></th>\n    </tr>\n  </thead>\n  <tbody>\n    <tr>\n      <th>2021-02-01 00:04:23.078</th>\n      <td>3175</td>\n      <td>4045</td>\n      <td>17</td>\n      <td>1313.0</td>\n      <td>1362.0</td>\n    </tr>\n    <tr>\n      <th>2021-02-01 00:07:08.808</th>\n      <td>3154</td>\n      <td>3725</td>\n      <td>22</td>\n      <td>618.0</td>\n      <td>36.0</td>\n    </tr>\n    <tr>\n      <th>2021-02-01 00:07:55.939</th>\n      <td>502</td>\n      <td>411</td>\n      <td>33</td>\n      <td>775.0</td>\n      <td>600.0</td>\n    </tr>\n    <tr>\n      <th>2021-02-01 00:09:32.682</th>\n      <td>505</td>\n      <td>3687</td>\n      <td>25</td>\n      <td>149.0</td>\n      <td>557.0</td>\n    </tr>\n    <tr>\n      <th>2021-02-01 00:11:53.386</th>\n      <td>346</td>\n      <td>285</td>\n      <td>38</td>\n      <td>221.0</td>\n      <td>262.0</td>\n    </tr>\n    <tr>\n      <th>...</th>\n      <td>...</td>\n      <td>...</td>\n      <td>...</td>\n      <td>...</td>\n      <td>...</td>\n    </tr>\n    <tr>\n      <th>2021-02-28 23:51:54.160</th>\n      <td>303</td>\n      <td>257</td>\n      <td>45</td>\n      <td>931.0</td>\n      <td>886.0</td>\n    </tr>\n    <tr>\n      <th>2021-02-28 23:53:45.016</th>\n      <td>3052</td>\n      <td>437</td>\n      <td>21</td>\n      <td>868.0</td>\n      <td>897.0</td>\n    </tr>\n    <tr>\n      <th>2021-02-28 23:56:09.694</th>\n      <td>485</td>\n      <td>526</td>\n      <td>13</td>\n      <td>1274.0</td>\n      <td>559.0</td>\n    </tr>\n    <tr>\n      <th>2021-02-28 23:57:55.556</th>\n      <td>3555</td>\n      <td>3129</td>\n      <td>25</td>\n      <td>60.0</td>\n      <td>1063.0</td>\n    </tr>\n    <tr>\n      <th>2021-02-28 23:59:17.886</th>\n      <td>3134</td>\n      <td>3141</td>\n      <td>27</td>\n      <td>70.0</td>\n      <td>8.0</td>\n    </tr>\n  </tbody>\n</table>\n<p>160173 rows × 5 columns</p>\n</div>"
     },
     "metadata": {},
     "execution_count": 18
    }
   ],
   "source": [
    "data = pd.read_csv(tripdata_list[-2])\n",
    "data.starttime = pd.to_datetime(data.starttime)\n",
    "data = data.set_index(\"starttime\")\n",
    "data\n"
   ]
  },
  {
   "source": [
    "## View aggrigated data with shape: (timestamp, station; count)"
   ],
   "cell_type": "markdown",
   "metadata": {}
  },
  {
   "cell_type": "code",
   "execution_count": 32,
   "metadata": {},
   "outputs": [],
   "source": [
    "def aggrigate_tripdata(freq=\"D\", key=\"startstationid\"):\n",
    "    \"\"\"\n",
    "        freq (str): frequency of timeseries\n",
    "            D: daily, W: weekly\n",
    "        key (str): key to aggrigage original tripdata\n",
    "            startstationid or userage\n",
    "    \"\"\"\n",
    "\n",
    "    df_list = []\n",
    "\n",
    "    for fn in tqdm(tripdata_list, total=len(tripdata_list)):\n",
    "\n",
    "        # Original data (CSV)\n",
    "        data = pd.read_csv(fn)\n",
    "        data.starttime = pd.to_datetime(data.starttime)\n",
    "        data = data.set_index(\"starttime\")\n",
    "\n",
    "        # CSV to TimeSeries\n",
    "        g = data.groupby([pd.Grouper(freq=freq), key]).size()\n",
    "        g = g.reset_index(key)\n",
    "        g = g.pivot_table(index=\"starttime\", columns=key, values=0)\n",
    "\n",
    "        df_list.append(g)\n",
    "\n",
    "    return pd.concat(df_list).fillna(0)"
   ]
  },
  {
   "cell_type": "code",
   "execution_count": 35,
   "metadata": {},
   "outputs": [],
   "source": [
    "def save_aggrigated_tripdata(freq=\"D\", key=\"startstationid\", n_axis=10):\n",
    "\n",
    "    # Prepare for output directory\n",
    "    outpath_pdf = os.path.join(OUTPUT_PATH, DATASET_PATH.split(\"/\")[-2], freq, key)\n",
    "    replace_dir(outpath_pdf)\n",
    "\n",
    "    # Get aggrigated tripdata\n",
    "    df = aggrigate_tripdata(freq=freq, key=key)\n",
    "\n",
    "    for n in tqdm(range(n_axis, df.shape[1] + n_axis, n_axis)):\n",
    "\n",
    "        n = min(n, df.shape[1])\n",
    "        fig, ax = plt.subplots(n_axis, figsize=(16, 2 * n_axis))\n",
    "\n",
    "        for axi in range(n - n_axis, n):\n",
    "            df.iloc[:, axi].plot(ax=ax[axi % n_axis])\n",
    "            ax[axi % n_axis].set_ylabel(df.columns[axi])\n",
    "        \n",
    "        fig.tight_layout()\n",
    "        fig.savefig(outpath_pdf + \"/tmp_summary_{}_{}.pdf\".format(key, n))\n",
    "        # keep this order: clf() -> close()\n",
    "        plt.clf()\n",
    "        plt.close()\n",
    "\n",
    "    figure_list = glob.glob(outpath_pdf + \"/tmp*.pdf\")\n",
    "    figure_list.sort()\n",
    "    \n",
    "    # Save daily summary as a pdf file\n",
    "    merger = PyPDF2.PdfFileMerger()\n",
    "    for fn in figure_list:\n",
    "        merger.append(fn)\n",
    "    \n",
    "    merger.write(outpath_pdf + \"/summary.pdf\")\n",
    "    merger.close()\n",
    "\n",
    "    # Delete temporal files\n",
    "    for fn in figure_list:\n",
    "        os.remove(fn)"
   ]
  },
  {
   "cell_type": "code",
   "execution_count": 36,
   "metadata": {},
   "outputs": [
    {
     "output_type": "stream",
     "name": "stderr",
     "text": [
      "100%|██████████| 25/25 [00:23<00:00,  1.07it/s]\n",
      "100%|██████████| 12/12 [00:16<00:00,  1.39s/it]\n"
     ]
    }
   ],
   "source": [
    "save_aggrigated_tripdata(freq=\"D\", key=\"startstationid\")  # (timestamp, stationid; count)\n",
    "save_aggrigated_tripdata(freq=\"D\", key=\"userage\")  # (timestamp, age; count)"
   ]
  },
  {
   "cell_type": "code",
   "execution_count": null,
   "metadata": {},
   "outputs": [],
   "source": []
  }
 ]
}